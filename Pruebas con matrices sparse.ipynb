{
 "cells": [
  {
   "cell_type": "code",
   "execution_count": 73,
   "id": "d8a7f423",
   "metadata": {},
   "outputs": [
    {
     "name": "stdout",
     "output_type": "stream",
     "text": [
      "[[ 1.  0.  0.  0.]\n",
      " [ 0. -1.  0.  0.]\n",
      " [ 0.  0.  1.  0.]\n",
      " [ 0.  0.  0. -1.]]\n",
      "[[ 1.  0.  0.  0.  0.  0.  0.  0.]\n",
      " [ 0.  1.  0.  0.  0.  0.  0.  0.]\n",
      " [ 0.  0. -1.  0.  0.  0.  0.  0.]\n",
      " [ 0.  0.  0. -1.  0.  0.  0.  0.]\n",
      " [ 0.  0.  0.  0.  1.  0.  0.  0.]\n",
      " [ 0.  0.  0.  0.  0.  1.  0.  0.]\n",
      " [ 0.  0.  0.  0.  0.  0. -1.  0.]\n",
      " [ 0.  0.  0.  0.  0.  0.  0. -1.]]\n"
     ]
    }
   ],
   "source": [
    "import numpy as np\n",
    "import matplotlib.pyplot as mt\n",
    "import scipy.sparse as sp\n",
    "\n",
    "N=2\n",
    "\n",
    "#Matrices de Pauli en un hueco\n",
    "sx=sp.coo_matrix(([1,1], ([0,1], [1,0])), shape=(2, 2))\n",
    "sy=sp.coo_matrix(([1j,-1j], ([0,1], [1,0])), shape=(2, 2))\n",
    "sz=sp.coo_matrix(([1,-1], ([0,1], [0,1])), shape=(2, 2))\n",
    "\n",
    "I = sp.eye(N) #Identidad en subespacio del hueco\n",
    "cero=sp.coo_matrix((2, 1))\n",
    "\n",
    "fund=sp.coo_matrix(([1], ([0], [0])), shape=(2*N, 1))\n",
    "exc=sp.coo_matrix(([1], ([1], [0])), shape=(2*N, 1))\n",
    "\n",
    "#Crear hamiltoniano a mano con dos primeros terminos y sacar autovalores \n",
    "Hdiag=[]\n",
    "i=0\n",
    "while i<2*N:\n",
    "    Hdiag.append((-1)**i)\n",
    "    i+=1\n",
    "H=sp.diags(Hdiag, shape=(2*N, 2*N), format='csr')\n",
    "#print(H.toarray())\n",
    "print((sp.kron(I,sz)).toarray())\n",
    "print((sp.kron((sp.kron(I,sz)),I)).toarray())\n",
    "#Implementar autovalores\n",
    "    \n",
    "    "
   ]
  },
  {
   "cell_type": "code",
   "execution_count": 70,
   "id": "287dbd37",
   "metadata": {},
   "outputs": [
    {
     "name": "stdout",
     "output_type": "stream",
     "text": [
      "[[ 1.  0.  0.  0.  0.  0.  0.  0.  0.  0.  0.  0.  0.  0.  0.  0.  0.  0.]\n",
      " [ 0. -1.  0.  0.  0.  0.  0.  0.  0.  0.  0.  0.  0.  0.  0.  0.  0.  0.]\n",
      " [ 0.  0.  1.  0.  0.  0.  0.  0.  0.  0.  0.  0.  0.  0.  0.  0.  0.  0.]\n",
      " [ 0.  0.  0. -1.  0.  0.  0.  0.  0.  0.  0.  0.  0.  0.  0.  0.  0.  0.]\n",
      " [ 0.  0.  0.  0.  1.  0.  0.  0.  0.  0.  0.  0.  0.  0.  0.  0.  0.  0.]\n",
      " [ 0.  0.  0.  0.  0. -1.  0.  0.  0.  0.  0.  0.  0.  0.  0.  0.  0.  0.]\n",
      " [ 0.  0.  0.  0.  0.  0.  1.  0.  0.  0.  0.  0.  0.  0.  0.  0.  0.  0.]\n",
      " [ 0.  0.  0.  0.  0.  0.  0. -1.  0.  0.  0.  0.  0.  0.  0.  0.  0.  0.]\n",
      " [ 0.  0.  0.  0.  0.  0.  0.  0.  1.  0.  0.  0.  0.  0.  0.  0.  0.  0.]\n",
      " [ 0.  0.  0.  0.  0.  0.  0.  0.  0. -1.  0.  0.  0.  0.  0.  0.  0.  0.]\n",
      " [ 0.  0.  0.  0.  0.  0.  0.  0.  0.  0.  1.  0.  0.  0.  0.  0.  0.  0.]\n",
      " [ 0.  0.  0.  0.  0.  0.  0.  0.  0.  0.  0. -1.  0.  0.  0.  0.  0.  0.]\n",
      " [ 0.  0.  0.  0.  0.  0.  0.  0.  0.  0.  0.  0.  1.  0.  0.  0.  0.  0.]\n",
      " [ 0.  0.  0.  0.  0.  0.  0.  0.  0.  0.  0.  0.  0. -1.  0.  0.  0.  0.]\n",
      " [ 0.  0.  0.  0.  0.  0.  0.  0.  0.  0.  0.  0.  0.  0.  1.  0.  0.  0.]\n",
      " [ 0.  0.  0.  0.  0.  0.  0.  0.  0.  0.  0.  0.  0.  0.  0. -1.  0.  0.]\n",
      " [ 0.  0.  0.  0.  0.  0.  0.  0.  0.  0.  0.  0.  0.  0.  0.  0.  1.  0.]\n",
      " [ 0.  0.  0.  0.  0.  0.  0.  0.  0.  0.  0.  0.  0.  0.  0.  0.  0. -1.]]\n"
     ]
    }
   ],
   "source": [
    "#Idea aparcada para crear un operador como porductos tensoriales\n",
    "\n",
    "def szi(i):\n",
    "    if i==1:\n",
    "        m=1\n",
    "        s=sz\n",
    "        while m <N:\n",
    "            s=sp.kron(I,s)\n",
    "            m+=1\n",
    "    else:\n",
    "        m=2\n",
    "        s=I\n",
    "        while m <N:\n",
    "            if m==i:\n",
    "                s=sp.kron(s,sz)\n",
    "            else:\n",
    "                s=sp.kron(s,I)\n",
    "            m+=1\n",
    "    return s\n",
    "print(szi(1).toarray())"
   ]
  }
 ],
 "metadata": {
  "kernelspec": {
   "display_name": "Python 3",
   "language": "python",
   "name": "python3"
  },
  "language_info": {
   "codemirror_mode": {
    "name": "ipython",
    "version": 3
   },
   "file_extension": ".py",
   "mimetype": "text/x-python",
   "name": "python",
   "nbconvert_exporter": "python",
   "pygments_lexer": "ipython3",
   "version": "3.8.8"
  }
 },
 "nbformat": 4,
 "nbformat_minor": 5
}
